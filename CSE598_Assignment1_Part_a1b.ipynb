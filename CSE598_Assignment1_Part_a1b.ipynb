{
  "nbformat": 4,
  "nbformat_minor": 0,
  "metadata": {
    "colab": {
      "name": "Assignment1_Part-a1b.ipynb",
      "provenance": [],
      "authorship_tag": "ABX9TyOxFNNGwOQTYr1juRV++zOJ",
      "include_colab_link": true
    },
    "kernelspec": {
      "name": "python3",
      "display_name": "Python 3"
    },
    "language_info": {
      "name": "python"
    }
  },
  "cells": [
    {
      "cell_type": "markdown",
      "metadata": {
        "id": "view-in-github",
        "colab_type": "text"
      },
      "source": [
        "<a href=\"https://colab.research.google.com/github/venkate5hgunda/MachineLearningProjectsHome/blob/master/CSE598_Assignment1_Part_a1b.ipynb\" target=\"_parent\"><img src=\"https://colab.research.google.com/assets/colab-badge.svg\" alt=\"Open In Colab\"/></a>"
      ]
    },
    {
      "cell_type": "code",
      "execution_count": 1,
      "metadata": {
        "id": "MkdSXoNmO-BG"
      },
      "outputs": [],
      "source": [
        "# copied the imports from Assignment1:a1a.py\n",
        "import os\n",
        "os.environ['TF_CPP_MIN_LOG_LEVEL']='2'\n",
        "\n",
        "import numpy as np\n",
        "from sklearn.model_selection import train_test_split\n",
        "import tensorflow as tf\n",
        "import time\n",
        "import datetime\n",
        "import utils"
      ]
    },
    {
      "cell_type": "code",
      "source": [
        "# Define paramaters for the model\n",
        "learning_rate = 0.1\n",
        "batch_size = 200 # 10000\n",
        "n_epochs = 30\n",
        "n_steps_per_epoch = 32 # used to be larger, but taking forever for an epoch\n",
        "n_train = 60000\n",
        "n_test = 10000"
      ],
      "metadata": {
        "id": "UstSZsCCPd4g"
      },
      "execution_count": 2,
      "outputs": []
    },
    {
      "cell_type": "code",
      "source": [
        "# Step 1: Read in data\n",
        "mnist_folder = 'data/mnist'\n",
        "if os.path.isdir(mnist_folder) != True:\n",
        "    os.mkdir('data')\n",
        "    os.mkdir(mnist_folder)\n",
        "utils.download_mnist(mnist_folder)\n",
        "# train, val, test = utils.read_mnist(mnist_folder, flatten=True)\n",
        "train, val, test = utils.read_mnist(mnist_folder)"
      ],
      "metadata": {
        "colab": {
          "base_uri": "https://localhost:8080/"
        },
        "id": "DFkDttJ9Pgmx",
        "outputId": "d5895b76-18ac-489c-db87-cade7fd575d5"
      },
      "execution_count": 3,
      "outputs": [
        {
          "output_type": "stream",
          "name": "stdout",
          "text": [
            "Downloading http://yann.lecun.com/exdb/mnist/train-images-idx3-ubyte.gz\n",
            "Successfully downloaded data/mnist/train-images-idx3-ubyte.gz\n",
            "Downloading http://yann.lecun.com/exdb/mnist/train-labels-idx1-ubyte.gz\n",
            "Successfully downloaded data/mnist/train-labels-idx1-ubyte.gz\n",
            "Downloading http://yann.lecun.com/exdb/mnist/t10k-images-idx3-ubyte.gz\n",
            "Successfully downloaded data/mnist/t10k-images-idx3-ubyte.gz\n",
            "Downloading http://yann.lecun.com/exdb/mnist/t10k-labels-idx1-ubyte.gz\n",
            "Successfully downloaded data/mnist/t10k-labels-idx1-ubyte.gz\n"
          ]
        }
      ]
    },
    {
      "cell_type": "code",
      "source": [
        "# Step 2: Create datasets and iterator\n",
        "# create training Dataset and batch it\n",
        "train_data = tf.data.Dataset.from_tensor_slices(train)\n",
        "train_data = train_data.shuffle(10000) # if you want to shuffle your data\n",
        "train_data = train_data.batch(batch_size)\n",
        "\n",
        "x_train, x_val, y_train, y_val = train_test_split(train[0],train[1],test_size=0.2)\n",
        "x_train, x_val = x_train.reshape(-1,28,28,1), x_val.reshape(-1,28,28,1)"
      ],
      "metadata": {
        "id": "uVqcx17ZPiUU"
      },
      "execution_count": 4,
      "outputs": []
    },
    {
      "cell_type": "code",
      "source": [
        "# create testing Dataset and batch it\n",
        "test_data = tf.data.Dataset.from_tensor_slices(test)\n",
        "test_data = test_data.shuffle(1000)\n",
        "test_data = test_data.batch(batch_size)"
      ],
      "metadata": {
        "id": "3Zfm3gvCPjHa"
      },
      "execution_count": 5,
      "outputs": []
    },
    {
      "cell_type": "code",
      "source": [
        "# Model Definition\n",
        "# Reference for Model Definition: https://www.kaggle.com/cdeotte/how-to-choose-cnn-architecture-mnist?scriptVersionId=5965574&cellId=31\n",
        "\n",
        "model = tf.keras.Sequential()\n",
        "\n",
        "model.add(tf.keras.layers.Conv2D(32,kernel_size=3,activation='relu',input_shape=(28,28,1)))\n",
        "model.add(tf.keras.layers.BatchNormalization())\n",
        "model.add(tf.keras.layers.Conv2D(32,kernel_size=3,activation='relu'))\n",
        "model.add(tf.keras.layers.BatchNormalization())\n",
        "model.add(tf.keras.layers.Conv2D(32,kernel_size=5,strides=2,padding='same',activation='relu'))\n",
        "model.add(tf.keras.layers.BatchNormalization())\n",
        "model.add(tf.keras.layers.Dropout(0.4))\n",
        "\n",
        "model.add(tf.keras.layers.Conv2D(64,kernel_size=3,activation='relu'))\n",
        "model.add(tf.keras.layers.BatchNormalization())\n",
        "model.add(tf.keras.layers.Conv2D(64,kernel_size=3,activation='relu'))\n",
        "model.add(tf.keras.layers.BatchNormalization())\n",
        "model.add(tf.keras.layers.Conv2D(64,kernel_size=5,strides=2,padding='same',activation='relu'))\n",
        "model.add(tf.keras.layers.BatchNormalization())\n",
        "model.add(tf.keras.layers.Dropout(0.4))\n",
        "\n",
        "model.add(tf.keras.layers.Flatten())\n",
        "model.add(tf.keras.layers.Dense(128,activation='relu'))\n",
        "model.add(tf.keras.layers.BatchNormalization())\n",
        "model.add(tf.keras.layers.Dropout(0.4))\n",
        "model.add(tf.keras.layers.Dense(10,activation='softmax'))\n",
        "\n",
        "model.compile(optimizer='Adam',loss='categorical_crossentropy',metrics=['accuracy'])\n"
      ],
      "metadata": {
        "id": "3rPUIWIbPlwX"
      },
      "execution_count": 6,
      "outputs": []
    },
    {
      "cell_type": "code",
      "source": [
        "# Data Augmentation\n",
        "\n",
        "augmented_data_generator = tf.keras.preprocessing.image.ImageDataGenerator(rotation_range=10,zoom_range=0.1,width_shift_range=0.1,height_shift_range=0.1)\n",
        "learning_rate_scheduler = tf.keras.callbacks.LearningRateScheduler(lambda x: 1e-3 * 0.95 ** (x+n_epochs))\n",
        "\n",
        "# Then fit the model, and we should get our accuracy number\n",
        "accuracy = model.fit_generator(augmented_data_generator.flow(x_train, y_train, batch_size=batch_size), epochs=n_epochs, steps_per_epoch=n_steps_per_epoch, validation_data=(x_val, y_val), callbacks=[learning_rate_scheduler], verbose=1)\n",
        "print(accuracy)\n"
      ],
      "metadata": {
        "colab": {
          "base_uri": "https://localhost:8080/"
        },
        "id": "xuN2uIwQPnm3",
        "outputId": "5978a9fc-1290-4277-913f-9830baa63e9f"
      },
      "execution_count": 7,
      "outputs": [
        {
          "output_type": "stream",
          "name": "stderr",
          "text": [
            "/usr/local/lib/python3.7/dist-packages/ipykernel_launcher.py:7: UserWarning: `Model.fit_generator` is deprecated and will be removed in a future version. Please use `Model.fit`, which supports generators.\n",
            "  import sys\n"
          ]
        },
        {
          "output_type": "stream",
          "name": "stdout",
          "text": [
            "Epoch 1/30\n",
            "32/32 [==============================] - 37s 1s/step - loss: 2.8509 - accuracy: 0.1917 - val_loss: 2.3125 - val_accuracy: 0.0970 - lr: 2.1464e-04\n",
            "Epoch 2/30\n",
            "32/32 [==============================] - 35s 1s/step - loss: 1.9223 - accuracy: 0.3988 - val_loss: 2.3288 - val_accuracy: 0.1146 - lr: 2.0391e-04\n",
            "Epoch 3/30\n",
            "32/32 [==============================] - 35s 1s/step - loss: 1.4100 - accuracy: 0.5472 - val_loss: 2.3656 - val_accuracy: 0.1129 - lr: 1.9371e-04\n",
            "Epoch 4/30\n",
            "32/32 [==============================] - 35s 1s/step - loss: 1.0893 - accuracy: 0.6452 - val_loss: 2.3807 - val_accuracy: 0.1129 - lr: 1.8403e-04\n",
            "Epoch 5/30\n",
            "32/32 [==============================] - 35s 1s/step - loss: 0.8789 - accuracy: 0.7117 - val_loss: 2.4090 - val_accuracy: 0.1129 - lr: 1.7482e-04\n",
            "Epoch 6/30\n",
            "32/32 [==============================] - 35s 1s/step - loss: 0.7578 - accuracy: 0.7578 - val_loss: 2.4423 - val_accuracy: 0.1129 - lr: 1.6608e-04\n",
            "Epoch 7/30\n",
            "32/32 [==============================] - 35s 1s/step - loss: 0.6272 - accuracy: 0.7923 - val_loss: 2.2583 - val_accuracy: 0.1168 - lr: 1.5778e-04\n",
            "Epoch 8/30\n",
            "32/32 [==============================] - 35s 1s/step - loss: 0.5837 - accuracy: 0.8184 - val_loss: 1.9616 - val_accuracy: 0.1919 - lr: 1.4989e-04\n",
            "Epoch 9/30\n",
            "32/32 [==============================] - 34s 1s/step - loss: 0.5391 - accuracy: 0.8270 - val_loss: 1.5846 - val_accuracy: 0.3794 - lr: 1.4240e-04\n",
            "Epoch 10/30\n",
            "32/32 [==============================] - 35s 1s/step - loss: 0.4837 - accuracy: 0.8466 - val_loss: 1.3189 - val_accuracy: 0.4738 - lr: 1.3528e-04\n",
            "Epoch 11/30\n",
            "32/32 [==============================] - 35s 1s/step - loss: 0.4637 - accuracy: 0.8502 - val_loss: 1.0974 - val_accuracy: 0.5602 - lr: 1.2851e-04\n",
            "Epoch 12/30\n",
            "32/32 [==============================] - 35s 1s/step - loss: 0.4355 - accuracy: 0.8639 - val_loss: 0.8799 - val_accuracy: 0.6552 - lr: 1.2209e-04\n",
            "Epoch 13/30\n",
            "32/32 [==============================] - 37s 1s/step - loss: 0.4150 - accuracy: 0.8659 - val_loss: 0.7003 - val_accuracy: 0.7353 - lr: 1.1598e-04\n",
            "Epoch 14/30\n",
            "32/32 [==============================] - 35s 1s/step - loss: 0.3774 - accuracy: 0.8797 - val_loss: 0.4748 - val_accuracy: 0.8395 - lr: 1.1018e-04\n",
            "Epoch 15/30\n",
            "32/32 [==============================] - 35s 1s/step - loss: 0.3642 - accuracy: 0.8902 - val_loss: 0.3394 - val_accuracy: 0.8930 - lr: 1.0467e-04\n",
            "Epoch 16/30\n",
            "32/32 [==============================] - 35s 1s/step - loss: 0.3486 - accuracy: 0.8938 - val_loss: 0.2371 - val_accuracy: 0.9302 - lr: 9.9440e-05\n",
            "Epoch 17/30\n",
            "32/32 [==============================] - 35s 1s/step - loss: 0.3450 - accuracy: 0.8902 - val_loss: 0.1999 - val_accuracy: 0.9396 - lr: 9.4468e-05\n",
            "Epoch 18/30\n",
            "32/32 [==============================] - 35s 1s/step - loss: 0.3287 - accuracy: 0.8955 - val_loss: 0.1539 - val_accuracy: 0.9533 - lr: 8.9745e-05\n",
            "Epoch 19/30\n",
            "32/32 [==============================] - 35s 1s/step - loss: 0.3305 - accuracy: 0.8967 - val_loss: 0.1338 - val_accuracy: 0.9601 - lr: 8.5258e-05\n",
            "Epoch 20/30\n",
            "32/32 [==============================] - 35s 1s/step - loss: 0.3100 - accuracy: 0.9072 - val_loss: 0.1127 - val_accuracy: 0.9662 - lr: 8.0995e-05\n",
            "Epoch 21/30\n",
            "32/32 [==============================] - 35s 1s/step - loss: 0.2858 - accuracy: 0.9117 - val_loss: 0.1004 - val_accuracy: 0.9695 - lr: 7.6945e-05\n",
            "Epoch 22/30\n",
            "32/32 [==============================] - 35s 1s/step - loss: 0.2889 - accuracy: 0.9094 - val_loss: 0.0964 - val_accuracy: 0.9701 - lr: 7.3098e-05\n",
            "Epoch 23/30\n",
            "32/32 [==============================] - 35s 1s/step - loss: 0.2695 - accuracy: 0.9192 - val_loss: 0.0900 - val_accuracy: 0.9724 - lr: 6.9443e-05\n",
            "Epoch 24/30\n",
            "32/32 [==============================] - 35s 1s/step - loss: 0.2832 - accuracy: 0.9156 - val_loss: 0.0894 - val_accuracy: 0.9719 - lr: 6.5971e-05\n",
            "Epoch 25/30\n",
            "32/32 [==============================] - 35s 1s/step - loss: 0.2719 - accuracy: 0.9195 - val_loss: 0.0876 - val_accuracy: 0.9723 - lr: 6.2672e-05\n",
            "Epoch 26/30\n",
            "32/32 [==============================] - 35s 1s/step - loss: 0.2715 - accuracy: 0.9177 - val_loss: 0.0845 - val_accuracy: 0.9730 - lr: 5.9539e-05\n",
            "Epoch 27/30\n",
            "32/32 [==============================] - 35s 1s/step - loss: 0.2743 - accuracy: 0.9153 - val_loss: 0.0843 - val_accuracy: 0.9730 - lr: 5.6562e-05\n",
            "Epoch 28/30\n",
            "32/32 [==============================] - 35s 1s/step - loss: 0.2429 - accuracy: 0.9222 - val_loss: 0.0794 - val_accuracy: 0.9751 - lr: 5.3734e-05\n",
            "Epoch 29/30\n",
            "32/32 [==============================] - 37s 1s/step - loss: 0.2495 - accuracy: 0.9217 - val_loss: 0.0792 - val_accuracy: 0.9755 - lr: 5.1047e-05\n",
            "Epoch 30/30\n",
            "32/32 [==============================] - 35s 1s/step - loss: 0.2401 - accuracy: 0.9267 - val_loss: 0.0788 - val_accuracy: 0.9755 - lr: 4.8495e-05\n",
            "<keras.callbacks.History object at 0x7f6f06668b50>\n"
          ]
        }
      ]
    }
  ]
}